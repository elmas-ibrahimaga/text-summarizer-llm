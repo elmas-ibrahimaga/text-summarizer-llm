{
  "cells": [
    {
      "cell_type": "markdown",
      "metadata": {
        "id": "i_i37939Gdw-"
      },
      "source": [
        "- **Topic**: Text Summarization on CNN/DailyMail\n",
        "- **Models Used**: BART (`facebook/bart-large-cnn`), Pegasus (`google/pegasus-cnn_dailymail`)\n",
        "- **Decoding Methods**: Greedy, Beam Search, Top-k Sampling\n",
        "- **Evaluation**: ROUGE metrics\n",
        "- **Tools**: Hugging Face, Transformers, Datasets, Colab"
      ]
    },
    {
      "cell_type": "code",
      "metadata": {
        "colab": {
          "base_uri": "https://localhost:8080/"
        },
        "id": "i0B0Gsm8GdxA",
        "outputId": "dec6335a-b594-4ef5-e4ed-371a6f93388c"
      },
      "source": [
        "# Install dependencies\n",
        "!pip install transformers datasets evaluate rouge_score"
      ],
      "execution_count": null,
      "outputs": [
        {
          "output_type": "stream",
          "name": "stdout",
          "text": [
            "Requirement already satisfied: transformers in /usr/local/lib/python3.11/dist-packages (4.51.3)\n",
            "Requirement already satisfied: datasets in /usr/local/lib/python3.11/dist-packages (3.5.0)\n",
            "Requirement already satisfied: evaluate in /usr/local/lib/python3.11/dist-packages (0.4.3)\n",
            "Requirement already satisfied: rouge_score in /usr/local/lib/python3.11/dist-packages (0.1.2)\n",
            "Requirement already satisfied: filelock in /usr/local/lib/python3.11/dist-packages (from transformers) (3.18.0)\n",
            "Requirement already satisfied: huggingface-hub<1.0,>=0.30.0 in /usr/local/lib/python3.11/dist-packages (from transformers) (0.30.2)\n",
            "Requirement already satisfied: numpy>=1.17 in /usr/local/lib/python3.11/dist-packages (from transformers) (2.0.2)\n",
            "Requirement already satisfied: packaging>=20.0 in /usr/local/lib/python3.11/dist-packages (from transformers) (24.2)\n",
            "Requirement already satisfied: pyyaml>=5.1 in /usr/local/lib/python3.11/dist-packages (from transformers) (6.0.2)\n",
            "Requirement already satisfied: regex!=2019.12.17 in /usr/local/lib/python3.11/dist-packages (from transformers) (2024.11.6)\n",
            "Requirement already satisfied: requests in /usr/local/lib/python3.11/dist-packages (from transformers) (2.32.3)\n",
            "Requirement already satisfied: tokenizers<0.22,>=0.21 in /usr/local/lib/python3.11/dist-packages (from transformers) (0.21.1)\n",
            "Requirement already satisfied: safetensors>=0.4.3 in /usr/local/lib/python3.11/dist-packages (from transformers) (0.5.3)\n",
            "Requirement already satisfied: tqdm>=4.27 in /usr/local/lib/python3.11/dist-packages (from transformers) (4.67.1)\n",
            "Requirement already satisfied: pyarrow>=15.0.0 in /usr/local/lib/python3.11/dist-packages (from datasets) (18.1.0)\n",
            "Requirement already satisfied: dill<0.3.9,>=0.3.0 in /usr/local/lib/python3.11/dist-packages (from datasets) (0.3.8)\n",
            "Requirement already satisfied: pandas in /usr/local/lib/python3.11/dist-packages (from datasets) (2.2.2)\n",
            "Requirement already satisfied: xxhash in /usr/local/lib/python3.11/dist-packages (from datasets) (3.5.0)\n",
            "Requirement already satisfied: multiprocess<0.70.17 in /usr/local/lib/python3.11/dist-packages (from datasets) (0.70.16)\n",
            "Requirement already satisfied: fsspec<=2024.12.0,>=2023.1.0 in /usr/local/lib/python3.11/dist-packages (from fsspec[http]<=2024.12.0,>=2023.1.0->datasets) (2024.12.0)\n",
            "Requirement already satisfied: aiohttp in /usr/local/lib/python3.11/dist-packages (from datasets) (3.11.15)\n",
            "Requirement already satisfied: absl-py in /usr/local/lib/python3.11/dist-packages (from rouge_score) (1.4.0)\n",
            "Requirement already satisfied: nltk in /usr/local/lib/python3.11/dist-packages (from rouge_score) (3.9.1)\n",
            "Requirement already satisfied: six>=1.14.0 in /usr/local/lib/python3.11/dist-packages (from rouge_score) (1.17.0)\n",
            "Requirement already satisfied: aiohappyeyeballs>=2.3.0 in /usr/local/lib/python3.11/dist-packages (from aiohttp->datasets) (2.6.1)\n",
            "Requirement already satisfied: aiosignal>=1.1.2 in /usr/local/lib/python3.11/dist-packages (from aiohttp->datasets) (1.3.2)\n",
            "Requirement already satisfied: attrs>=17.3.0 in /usr/local/lib/python3.11/dist-packages (from aiohttp->datasets) (25.3.0)\n",
            "Requirement already satisfied: frozenlist>=1.1.1 in /usr/local/lib/python3.11/dist-packages (from aiohttp->datasets) (1.5.0)\n",
            "Requirement already satisfied: multidict<7.0,>=4.5 in /usr/local/lib/python3.11/dist-packages (from aiohttp->datasets) (6.4.3)\n",
            "Requirement already satisfied: propcache>=0.2.0 in /usr/local/lib/python3.11/dist-packages (from aiohttp->datasets) (0.3.1)\n",
            "Requirement already satisfied: yarl<2.0,>=1.17.0 in /usr/local/lib/python3.11/dist-packages (from aiohttp->datasets) (1.19.0)\n",
            "Requirement already satisfied: typing-extensions>=3.7.4.3 in /usr/local/lib/python3.11/dist-packages (from huggingface-hub<1.0,>=0.30.0->transformers) (4.13.2)\n",
            "Requirement already satisfied: charset-normalizer<4,>=2 in /usr/local/lib/python3.11/dist-packages (from requests->transformers) (3.4.1)\n",
            "Requirement already satisfied: idna<4,>=2.5 in /usr/local/lib/python3.11/dist-packages (from requests->transformers) (3.10)\n",
            "Requirement already satisfied: urllib3<3,>=1.21.1 in /usr/local/lib/python3.11/dist-packages (from requests->transformers) (2.3.0)\n",
            "Requirement already satisfied: certifi>=2017.4.17 in /usr/local/lib/python3.11/dist-packages (from requests->transformers) (2025.1.31)\n",
            "Requirement already satisfied: click in /usr/local/lib/python3.11/dist-packages (from nltk->rouge_score) (8.1.8)\n",
            "Requirement already satisfied: joblib in /usr/local/lib/python3.11/dist-packages (from nltk->rouge_score) (1.4.2)\n",
            "Requirement already satisfied: python-dateutil>=2.8.2 in /usr/local/lib/python3.11/dist-packages (from pandas->datasets) (2.8.2)\n",
            "Requirement already satisfied: pytz>=2020.1 in /usr/local/lib/python3.11/dist-packages (from pandas->datasets) (2025.2)\n",
            "Requirement already satisfied: tzdata>=2022.7 in /usr/local/lib/python3.11/dist-packages (from pandas->datasets) (2025.2)\n"
          ]
        }
      ]
    },
    {
      "cell_type": "markdown",
      "metadata": {
        "id": "5ECDLekMGdxB"
      },
      "source": [
        "## 📥 Load Dataset"
      ]
    },
    {
      "cell_type": "code",
      "metadata": {
        "colab": {
          "base_uri": "https://localhost:8080/"
        },
        "id": "NFxd5H1hGdxB",
        "outputId": "8b2f0221-7133-4424-d74a-aaf17f17f8e1"
      },
      "source": [
        "from datasets import load_dataset\n",
        "dataset = load_dataset(\"cnn_dailymail\", \"3.0.0\")\n",
        "sample = dataset['test'][1]['article']\n",
        "print(sample)"
      ],
      "execution_count": null,
      "outputs": [
        {
          "output_type": "stream",
          "name": "stdout",
          "text": [
            "(CNN)Never mind cats having nine lives. A stray pooch in Washington State has used up at least three of her own after being hit by a car, apparently whacked on the head with a hammer in a misguided mercy killing and then buried in a field -- only to survive. That's according to Washington State University, where the dog -- a friendly white-and-black bully breed mix now named Theia -- has been receiving care at the Veterinary Teaching Hospital. Four days after her apparent death, the dog managed to stagger to a nearby farm, dirt-covered and emaciated, where she was found by a worker who took her to a vet for help. She was taken in by Moses Lake, Washington, resident Sara Mellado. \"Considering everything that she's been through, she's incredibly gentle and loving,\" Mellado said, according to WSU News. \"She's a true miracle dog and she deserves a good life.\" Theia is only one year old but the dog's brush with death did not leave her unscathed. She suffered a dislocated jaw, leg injuries and a caved-in sinus cavity -- and still requires surgery to help her breathe. The veterinary hospital's Good Samaritan Fund committee awarded some money to help pay for the dog's treatment, but Mellado has set up a fundraising page to help meet the remaining cost of the dog's care. She's also created a Facebook page to keep supporters updated. Donors have already surpassed the $10,000 target, inspired by Theia's tale of survival against the odds. On the fundraising page, Mellado writes, \"She is in desperate need of extensive medical procedures to fix her nasal damage and reset her jaw. I agreed to foster her until she finally found a loving home.\" She is dedicated to making sure Theia gets the medical attention she needs, Mellado adds, and wants to \"make sure she gets placed in a family where this will never happen to her again!\" Any additional funds raised will be \"paid forward\" to help other animals. Theia is not the only animal to apparently rise from the grave in recent weeks. A cat in Tampa, Florida, found seemingly dead after he was hit by a car in January, showed up alive in a neighbor's yard five days after he was buried by his owner. The cat was in bad shape, with maggots covering open wounds on his body and a ruined left eye, but remarkably survived with the help of treatment from the Humane Society.\n"
          ]
        }
      ]
    },
    {
      "cell_type": "markdown",
      "metadata": {
        "id": "D2qEZ7EeGdxB"
      },
      "source": [
        "## 🤖 Approach 1: BART (Prompt Engineering)"
      ]
    },
    {
      "cell_type": "code",
      "metadata": {
        "colab": {
          "base_uri": "https://localhost:8080/"
        },
        "id": "SOx9nUQaGdxB",
        "outputId": "d1630dde-3f94-4b4c-a013-8dd273113f21"
      },
      "source": [
        "from transformers import pipeline\n",
        "summarizer_bart = pipeline(\"summarization\", model=\"facebook/bart-large-cnn\")\n",
        "summary_bart = summarizer_bart(sample, max_length=130, min_length=30, do_sample=False)\n",
        "print(summary_bart[0]['summary_text'])"
      ],
      "execution_count": null,
      "outputs": [
        {
          "output_type": "stream",
          "name": "stderr",
          "text": [
            "Device set to use cpu\n"
          ]
        },
        {
          "output_type": "stream",
          "name": "stdout",
          "text": [
            "Theia, a one-year-old bully breed mix, was hit by a car and buried in a field. She managed to stagger to a nearby farm, dirt-covered and emaciated. She suffered a dislocated jaw, leg injuries and a caved-in sinus cavity.\n"
          ]
        }
      ]
    },
    {
      "cell_type": "markdown",
      "metadata": {
        "id": "48GHt26xGdxC"
      },
      "source": [
        "## 🤖 Approach 2: Pegasus + Sampling Methods"
      ]
    },
    {
      "cell_type": "code",
      "metadata": {
        "colab": {
          "base_uri": "https://localhost:8080/"
        },
        "id": "e2K5ZHeRGdxC",
        "outputId": "bbdc0b28-3d6d-4935-922e-3cc2541e18a8"
      },
      "source": [
        "from transformers import AutoTokenizer, AutoModelForSeq2SeqLM\n",
        "model_ckpt = \"google/pegasus-cnn_dailymail\"\n",
        "tokenizer = AutoTokenizer.from_pretrained(model_ckpt)\n",
        "model = AutoModelForSeq2SeqLM.from_pretrained(model_ckpt)\n",
        "\n",
        "inputs = tokenizer(sample, return_tensors=\"pt\", max_length=1024, truncation=True)"
      ],
      "execution_count": null,
      "outputs": [
        {
          "output_type": "stream",
          "name": "stderr",
          "text": [
            "Some weights of PegasusForConditionalGeneration were not initialized from the model checkpoint at google/pegasus-cnn_dailymail and are newly initialized: ['model.decoder.embed_positions.weight', 'model.encoder.embed_positions.weight']\n",
            "You should probably TRAIN this model on a down-stream task to be able to use it for predictions and inference.\n"
          ]
        }
      ]
    },
    {
      "cell_type": "code",
      "metadata": {
        "colab": {
          "base_uri": "https://localhost:8080/"
        },
        "id": "8hineonfGdxC",
        "outputId": "af610f81-408b-4387-8f48-ceaf2d0e9d99"
      },
      "source": [
        "# Greedy\n",
        "greedy = model.generate(**inputs)\n",
        "print(\"Greedy:\", tokenizer.decode(greedy[0], skip_special_tokens=True))"
      ],
      "execution_count": null,
      "outputs": [
        {
          "output_type": "stream",
          "name": "stdout",
          "text": [
            "Greedy: Theia, a white-and-black bully breed mix, was apparently hit by a car and buried in a field .<n>Four days later, the dog staggers to a farm and is taken in by a worker .<n>She needs surgery to fix a dislocated jaw and a caved-in sinus cavity .\n"
          ]
        }
      ]
    },
    {
      "cell_type": "code",
      "metadata": {
        "colab": {
          "base_uri": "https://localhost:8080/"
        },
        "id": "EdPK_0oJGdxC",
        "outputId": "f76bc949-c3ce-44a9-80ac-60555a924bbb"
      },
      "source": [
        "# Beam Search\n",
        "beam = model.generate(**inputs, num_beams=5, early_stopping=True)\n",
        "print(\"Beam:\", tokenizer.decode(beam[0], skip_special_tokens=True))"
      ],
      "execution_count": null,
      "outputs": [
        {
          "output_type": "stream",
          "name": "stdout",
          "text": [
            "Beam: Theia, a white-and-black bully breed mix, was apparently hit by a car and buried in a field .<n>Four days later, she staggered to a nearby farm and was taken in by a worker .<n>She's been treated at Washington State University's Veterinary Teaching Hospital .\n"
          ]
        }
      ]
    },
    {
      "cell_type": "code",
      "metadata": {
        "colab": {
          "base_uri": "https://localhost:8080/"
        },
        "id": "aAH-TBD1GdxD",
        "outputId": "9f5a0a3d-2b58-49a1-fe09-01f8f8f01982"
      },
      "source": [
        "# Top-k Sampling\n",
        "topk = model.generate(**inputs, do_sample=True, top_k=50, temperature=0.7)\n",
        "print(\"Top-k:\", tokenizer.decode(topk[0], skip_special_tokens=True))"
      ],
      "execution_count": null,
      "outputs": [
        {
          "output_type": "stream",
          "name": "stdout",
          "text": [
            "Top-k: Theia, a white-and-black bully breed mix, was apparently hit by a car and buried in a field .<n>Four days later, the dog staggers to a farm and is taken in by a worker .<n>She needs surgery to fix a dislocated jaw and a caved-in sinus cavity .\n"
          ]
        }
      ]
    },
    {
      "cell_type": "markdown",
      "metadata": {
        "id": "8WtuouNrGdxD"
      },
      "source": [
        "## 📏 ROUGE Evaluation"
      ]
    },
    {
      "cell_type": "code",
      "metadata": {
        "colab": {
          "base_uri": "https://localhost:8080/"
        },
        "id": "RW4ShvSVGdxD",
        "outputId": "00b0d399-a5df-4e04-b473-930cd9501dec"
      },
      "source": [
        "from evaluate import load\n",
        "rouge = load(\"rouge\")\n",
        "reference = dataset['test'][1]['highlights']\n",
        "\n",
        "rouge_result = rouge.compute(\n",
        "    predictions=[summary_bart[0]['summary_text']],\n",
        "    references=[reference]\n",
        ")\n",
        "print(rouge_result)"
      ],
      "execution_count": null,
      "outputs": [
        {
          "output_type": "stream",
          "name": "stdout",
          "text": [
            "{'rouge1': np.float64(0.4883720930232558), 'rouge2': np.float64(0.2857142857142857), 'rougeL': np.float64(0.4883720930232558), 'rougeLsum': np.float64(0.4883720930232558)}\n"
          ]
        }
      ]
    },
    {
      "cell_type": "code",
      "metadata": {
        "colab": {
          "base_uri": "https://localhost:8080/",
          "height": 452
        },
        "id": "QDjDeH-kGdxD",
        "outputId": "eb428c07-155e-46de-dcc1-4801668ecd34"
      },
      "source": [
        "# 📊 Bar Chart of ROUGE Scores\n",
        "import matplotlib.pyplot as plt\n",
        "rouge_keys = ['rouge1', 'rouge2', 'rougeL']\n",
        "scores = [rouge_result[k] for k in rouge_keys]\n",
        "\n",
        "\n",
        "plt.bar(rouge_keys, scores)\n",
        "plt.title(\"ROUGE Scores for BART Summary\")\n",
        "plt.ylabel(\"F1 Score\")\n",
        "plt.ylim(0, 1)\n",
        "plt.grid(axis='y')\n",
        "plt.show()"
      ],
      "execution_count": null,
      "outputs": [
        {
          "output_type": "display_data",
          "data": {
            "text/plain": [
              "<Figure size 640x480 with 1 Axes>"
            ],
            "image/png": "[encoded data removed]"
          },
          "metadata": {}
        }
      ]
    },
    {
      "cell_type": "markdown",
      "metadata": {
        "id": "SpaHIjbkGdxD"
      },
      "source": [
        "## 🔄 Decoding Methods Comparison\n",
        "\n",
        "| Method       | Summary Style       | Pros                            | Cons                            |\n",
        "|--------------|---------------------|----------------------------------|----------------------------------|\n",
        "| Greedy       | Simple, repetitive  | Fast and deterministic           | Lacks diversity, sometimes bland |\n",
        "| Beam Search  | Fluent, optimized   | Balanced output, higher quality  | Slightly slower                  |\n",
        "| Top-k        | Diverse, creative   | Unexpected, more expressive      | Risk of off-topic outputs        |"
      ]
    },
    {
      "cell_type": "markdown",
      "metadata": {
        "id": "bw7ViXuWGdxD"
      },
      "source": [
        "## 📝 Comments on Approach, Results, and Findings\n",
        "- **Approach**: Used BART and Pegasus, two strong summarization models, with three decoding strategies.\n",
        "- **Results**: BART pipeline was straightforward and fast. Pegasus summaries were closer to reference.\n",
        "- **Interesting Findings**:\n",
        "  - Greedy decoding is fast but less diverse.\n",
        "  - Beam Search gave high-quality, balanced summaries.\n",
        "  - Top-k added variety but was sometimes less accurate.\n",
        "- **Evaluation**: ROUGE scores support that Pegasus + Beam performs best for this task."
      ]
    }
  ],
  "metadata": {
    "kernelspec": {
      "display_name": "Python 3",
      "language": "python",
      "name": "python3"
    },
    "language_info": {
      "name": "python"
    },
    "colab": {
      "provenance": []
    }
  },
  "nbformat": 4,
  "nbformat_minor": 0
}